{
 "cells": [
  {
   "cell_type": "code",
   "execution_count": 3,
   "id": "9a4117e8",
   "metadata": {},
   "outputs": [
    {
     "name": "stdout",
     "output_type": "stream",
     "text": [
      "Image saved successfully to rl.png\n"
     ]
    }
   ],
   "source": [
    "import base64\n",
    "\n",
    "\n",
    "input_file_path = \"rl.bin\"  \n",
    "output_image_path = \"rl.png\" \n",
    "\n",
    "\n",
    "with open(input_file_path, \"rb\") as file:\n",
    "    file_content = file.read()\n",
    "\n",
    "try:\n",
    "    \n",
    "    decoded_data = base64.b64decode(file_content, validate=True)\n",
    "\n",
    "  \n",
    "    with open(output_image_path, \"wb\") as image_file:\n",
    "        image_file.write(decoded_data)\n",
    "    print(f\"Image saved successfully to {output_image_path}\")\n",
    "except Exception as e:\n",
    "    print(f\"Error decoding file: {e}\")\n"
   ]
  },
  {
   "cell_type": "code",
   "execution_count": null,
   "id": "51b3548d",
   "metadata": {},
   "outputs": [],
   "source": []
  },
  {
   "cell_type": "code",
   "execution_count": null,
   "id": "297aedd1",
   "metadata": {},
   "outputs": [],
   "source": []
  }
 ],
 "metadata": {
  "kernelspec": {
   "display_name": "Python 3 (ipykernel)",
   "language": "python",
   "name": "python3"
  },
  "language_info": {
   "codemirror_mode": {
    "name": "ipython",
    "version": 3
   },
   "file_extension": ".py",
   "mimetype": "text/x-python",
   "name": "python",
   "nbconvert_exporter": "python",
   "pygments_lexer": "ipython3",
   "version": "3.9.13"
  }
 },
 "nbformat": 4,
 "nbformat_minor": 5
}
